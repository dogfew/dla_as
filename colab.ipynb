{
  "cells": [
    {
      "cell_type": "code",
      "execution_count": null,
      "metadata": {
        "id": "aMwaoy8ggzVK",
        "outputId": "0bc43db1-3600-41a1-f00e-9a2c108e92e4",
        "colab": {
          "base_uri": "https://localhost:8080/"
        }
      },
      "outputs": [
        {
          "output_type": "stream",
          "name": "stdout",
          "text": [
            "Cloning into 'dla_as'...\n",
            "remote: Enumerating objects: 211, done.\u001b[K\n",
            "remote: Counting objects: 100% (211/211), done.\u001b[K\n",
            "remote: Compressing objects: 100% (166/166), done.\u001b[K\n",
            "remote: Total 211 (delta 99), reused 133 (delta 43), pack-reused 0\u001b[K\n",
            "Receiving objects: 100% (211/211), 1.28 MiB | 1.31 MiB/s, done.\n",
            "Resolving deltas: 100% (99/99), done.\n"
          ]
        }
      ],
      "source": [
        "!git clone https://github.com/dogfew/dla_as"
      ]
    },
    {
      "cell_type": "markdown",
      "metadata": {
        "id": "v2g7xhmkr3hA"
      },
      "source": [
        "# Test"
      ]
    },
    {
      "cell_type": "code",
      "execution_count": null,
      "metadata": {
        "id": "LVjJ69WcLwFM",
        "outputId": "7fce07c0-94ae-4ac6-8d19-9cd44c455558",
        "colab": {
          "base_uri": "https://localhost:8080/"
        }
      },
      "outputs": [
        {
          "output_type": "stream",
          "name": "stdout",
          "text": [
            "/content/dla_as\n"
          ]
        }
      ],
      "source": [
        "%cd dla_as"
      ]
    },
    {
      "cell_type": "code",
      "execution_count": null,
      "metadata": {
        "id": "vtvhBFzCXwcB",
        "outputId": "d2d1b518-c0f3-427a-a5bc-8d9c11d8c635",
        "colab": {
          "base_uri": "https://localhost:8080/"
        }
      },
      "outputs": [
        {
          "output_type": "stream",
          "name": "stdout",
          "text": [
            "Collecting wandb~=0.16.0 (from -r requirements.txt (line 1))\n",
            "  Downloading wandb-0.16.1-py3-none-any.whl (2.1 MB)\n",
            "\u001b[2K     \u001b[90m━━━━━━━━━━━━━━━━━━━━━━━━━━━━━━━━━━━━━━━━\u001b[0m \u001b[32m2.1/2.1 MB\u001b[0m \u001b[31m19.1 MB/s\u001b[0m eta \u001b[36m0:00:00\u001b[0m\n",
            "\u001b[?25hRequirement already satisfied: gdown in /usr/local/lib/python3.10/dist-packages (from -r requirements.txt (line 2)) (4.6.6)\n",
            "Requirement already satisfied: numba>0.56 in /usr/local/lib/python3.10/dist-packages (from -r requirements.txt (line 3)) (0.58.1)\n",
            "Collecting flashlight-text==0.0.4 (from -r requirements.txt (line 4))\n",
            "  Downloading flashlight_text-0.0.4-cp310-cp310-manylinux_2_17_x86_64.manylinux2014_x86_64.whl (1.3 MB)\n",
            "\u001b[2K     \u001b[90m━━━━━━━━━━━━━━━━━━━━━━━━━━━━━━━━━━━━━━━━\u001b[0m \u001b[32m1.3/1.3 MB\u001b[0m \u001b[31m44.7 MB/s\u001b[0m eta \u001b[36m0:00:00\u001b[0m\n",
            "\u001b[?25hRequirement already satisfied: llvmlite>0.39 in /usr/local/lib/python3.10/dist-packages (from -r requirements.txt (line 5)) (0.41.1)\n",
            "Collecting matplotlib~=3.8.2 (from -r requirements.txt (line 6))\n",
            "  Downloading matplotlib-3.8.2-cp310-cp310-manylinux_2_17_x86_64.manylinux2014_x86_64.whl (11.6 MB)\n",
            "\u001b[2K     \u001b[90m━━━━━━━━━━━━━━━━━━━━━━━━━━━━━━━━━━━━━━━━\u001b[0m \u001b[32m11.6/11.6 MB\u001b[0m \u001b[31m69.2 MB/s\u001b[0m eta \u001b[36m0:00:00\u001b[0m\n",
            "\u001b[?25hCollecting numpy>=1.25 (from -r requirements.txt (line 7))\n",
            "  Downloading numpy-1.26.2-cp310-cp310-manylinux_2_17_x86_64.manylinux2014_x86_64.whl (18.2 MB)\n",
            "\u001b[2K     \u001b[90m━━━━━━━━━━━━━━━━━━━━━━━━━━━━━━━━━━━━━━━━\u001b[0m \u001b[32m18.2/18.2 MB\u001b[0m \u001b[31m55.1 MB/s\u001b[0m eta \u001b[36m0:00:00\u001b[0m\n",
            "\u001b[?25hCollecting wget (from -r requirements.txt (line 8))\n",
            "  Downloading wget-3.2.zip (10 kB)\n",
            "  Preparing metadata (setup.py) ... \u001b[?25l\u001b[?25hdone\n",
            "Collecting pandas~=2.1.3 (from -r requirements.txt (line 9))\n",
            "  Downloading pandas-2.1.4-cp310-cp310-manylinux_2_17_x86_64.manylinux2014_x86_64.whl (12.3 MB)\n",
            "\u001b[2K     \u001b[90m━━━━━━━━━━━━━━━━━━━━━━━━━━━━━━━━━━━━━━━━\u001b[0m \u001b[32m12.3/12.3 MB\u001b[0m \u001b[31m48.7 MB/s\u001b[0m eta \u001b[36m0:00:00\u001b[0m\n",
            "\u001b[?25hCollecting Pillow~=10.1.0 (from -r requirements.txt (line 10))\n",
            "  Downloading Pillow-10.1.0-cp310-cp310-manylinux_2_28_x86_64.whl (3.6 MB)\n",
            "\u001b[2K     \u001b[90m━━━━━━━━━━━━━━━━━━━━━━━━━━━━━━━━━━━━━━━━\u001b[0m \u001b[32m3.6/3.6 MB\u001b[0m \u001b[31m100.2 MB/s\u001b[0m eta \u001b[36m0:00:00\u001b[0m\n",
            "\u001b[?25hRequirement already satisfied: torch>=2 in /usr/local/lib/python3.10/dist-packages (from -r requirements.txt (line 11)) (2.1.0+cu121)\n",
            "Requirement already satisfied: torchaudio>=2 in /usr/local/lib/python3.10/dist-packages (from -r requirements.txt (line 12)) (2.1.0+cu121)\n",
            "Requirement already satisfied: kaggle in /usr/local/lib/python3.10/dist-packages (from -r requirements.txt (line 13)) (1.5.16)\n",
            "Requirement already satisfied: torchvision>=0.16 in /usr/local/lib/python3.10/dist-packages (from -r requirements.txt (line 14)) (0.16.0+cu121)\n",
            "Requirement already satisfied: tqdm~=4.66.1 in /usr/local/lib/python3.10/dist-packages (from -r requirements.txt (line 15)) (4.66.1)\n",
            "Requirement already satisfied: inflect~=7.0.0 in /usr/local/lib/python3.10/dist-packages (from -r requirements.txt (line 16)) (7.0.0)\n",
            "Requirement already satisfied: scipy>=1.11.3 in /usr/local/lib/python3.10/dist-packages (from -r requirements.txt (line 17)) (1.11.4)\n",
            "Requirement already satisfied: librosa~=0.10.1 in /usr/local/lib/python3.10/dist-packages (from -r requirements.txt (line 18)) (0.10.1)\n",
            "Requirement already satisfied: scikit-learn>=1.2.2 in /usr/local/lib/python3.10/dist-packages (from -r requirements.txt (line 19)) (1.2.2)\n",
            "Collecting hydra-core (from -r requirements.txt (line 20))\n",
            "  Downloading hydra_core-1.3.2-py3-none-any.whl (154 kB)\n",
            "\u001b[2K     \u001b[90m━━━━━━━━━━━━━━━━━━━━━━━━━━━━━━━━━━━━━━━━\u001b[0m \u001b[32m154.5/154.5 kB\u001b[0m \u001b[31m21.5 MB/s\u001b[0m eta \u001b[36m0:00:00\u001b[0m\n",
            "\u001b[?25hCollecting omegaconf (from -r requirements.txt (line 21))\n",
            "  Downloading omegaconf-2.3.0-py3-none-any.whl (79 kB)\n",
            "\u001b[2K     \u001b[90m━━━━━━━━━━━━━━━━━━━━━━━━━━━━━━━━━━━━━━━━\u001b[0m \u001b[32m79.5/79.5 kB\u001b[0m \u001b[31m11.1 MB/s\u001b[0m eta \u001b[36m0:00:00\u001b[0m\n",
            "\u001b[?25hRequirement already satisfied: Click!=8.0.0,>=7.1 in /usr/local/lib/python3.10/dist-packages (from wandb~=0.16.0->-r requirements.txt (line 1)) (8.1.7)\n",
            "Collecting GitPython!=3.1.29,>=1.0.0 (from wandb~=0.16.0->-r requirements.txt (line 1))\n",
            "  Downloading GitPython-3.1.40-py3-none-any.whl (190 kB)\n",
            "\u001b[2K     \u001b[90m━━━━━━━━━━━━━━━━━━━━━━━━━━━━━━━━━━━━━━━━\u001b[0m \u001b[32m190.6/190.6 kB\u001b[0m \u001b[31m25.8 MB/s\u001b[0m eta \u001b[36m0:00:00\u001b[0m\n",
            "\u001b[?25hRequirement already satisfied: requests<3,>=2.0.0 in /usr/local/lib/python3.10/dist-packages (from wandb~=0.16.0->-r requirements.txt (line 1)) (2.31.0)\n",
            "Requirement already satisfied: psutil>=5.0.0 in /usr/local/lib/python3.10/dist-packages (from wandb~=0.16.0->-r requirements.txt (line 1)) (5.9.5)\n",
            "Collecting sentry-sdk>=1.0.0 (from wandb~=0.16.0->-r requirements.txt (line 1))\n",
            "  Downloading sentry_sdk-1.39.1-py2.py3-none-any.whl (254 kB)\n",
            "\u001b[2K     \u001b[90m━━━━━━━━━━━━━━━━━━━━━━━━━━━━━━━━━━━━━━━━\u001b[0m \u001b[32m254.1/254.1 kB\u001b[0m \u001b[31m27.1 MB/s\u001b[0m eta \u001b[36m0:00:00\u001b[0m\n",
            "\u001b[?25hCollecting docker-pycreds>=0.4.0 (from wandb~=0.16.0->-r requirements.txt (line 1))\n",
            "  Downloading docker_pycreds-0.4.0-py2.py3-none-any.whl (9.0 kB)\n",
            "Requirement already satisfied: PyYAML in /usr/local/lib/python3.10/dist-packages (from wandb~=0.16.0->-r requirements.txt (line 1)) (6.0.1)\n",
            "Collecting setproctitle (from wandb~=0.16.0->-r requirements.txt (line 1))\n",
            "  Downloading setproctitle-1.3.3-cp310-cp310-manylinux_2_5_x86_64.manylinux1_x86_64.manylinux_2_17_x86_64.manylinux2014_x86_64.whl (30 kB)\n",
            "Requirement already satisfied: setuptools in /usr/local/lib/python3.10/dist-packages (from wandb~=0.16.0->-r requirements.txt (line 1)) (67.7.2)\n",
            "Requirement already satisfied: appdirs>=1.4.3 in /usr/local/lib/python3.10/dist-packages (from wandb~=0.16.0->-r requirements.txt (line 1)) (1.4.4)\n",
            "Requirement already satisfied: protobuf!=4.21.0,<5,>=3.19.0 in /usr/local/lib/python3.10/dist-packages (from wandb~=0.16.0->-r requirements.txt (line 1)) (3.20.3)\n",
            "Requirement already satisfied: filelock in /usr/local/lib/python3.10/dist-packages (from gdown->-r requirements.txt (line 2)) (3.13.1)\n",
            "Requirement already satisfied: six in /usr/local/lib/python3.10/dist-packages (from gdown->-r requirements.txt (line 2)) (1.16.0)\n",
            "Requirement already satisfied: beautifulsoup4 in /usr/local/lib/python3.10/dist-packages (from gdown->-r requirements.txt (line 2)) (4.11.2)\n",
            "Requirement already satisfied: contourpy>=1.0.1 in /usr/local/lib/python3.10/dist-packages (from matplotlib~=3.8.2->-r requirements.txt (line 6)) (1.2.0)\n",
            "Requirement already satisfied: cycler>=0.10 in /usr/local/lib/python3.10/dist-packages (from matplotlib~=3.8.2->-r requirements.txt (line 6)) (0.12.1)\n",
            "Requirement already satisfied: fonttools>=4.22.0 in /usr/local/lib/python3.10/dist-packages (from matplotlib~=3.8.2->-r requirements.txt (line 6)) (4.46.0)\n",
            "Requirement already satisfied: kiwisolver>=1.3.1 in /usr/local/lib/python3.10/dist-packages (from matplotlib~=3.8.2->-r requirements.txt (line 6)) (1.4.5)\n",
            "Requirement already satisfied: packaging>=20.0 in /usr/local/lib/python3.10/dist-packages (from matplotlib~=3.8.2->-r requirements.txt (line 6)) (23.2)\n",
            "Requirement already satisfied: pyparsing>=2.3.1 in /usr/local/lib/python3.10/dist-packages (from matplotlib~=3.8.2->-r requirements.txt (line 6)) (3.1.1)\n",
            "Requirement already satisfied: python-dateutil>=2.7 in /usr/local/lib/python3.10/dist-packages (from matplotlib~=3.8.2->-r requirements.txt (line 6)) (2.8.2)\n",
            "Requirement already satisfied: pytz>=2020.1 in /usr/local/lib/python3.10/dist-packages (from pandas~=2.1.3->-r requirements.txt (line 9)) (2023.3.post1)\n",
            "Collecting tzdata>=2022.1 (from pandas~=2.1.3->-r requirements.txt (line 9))\n",
            "  Downloading tzdata-2023.3-py2.py3-none-any.whl (341 kB)\n",
            "\u001b[2K     \u001b[90m━━━━━━━━━━━━━━━━━━━━━━━━━━━━━━━━━━━━━━━━\u001b[0m \u001b[32m341.8/341.8 kB\u001b[0m \u001b[31m38.1 MB/s\u001b[0m eta \u001b[36m0:00:00\u001b[0m\n",
            "\u001b[?25hRequirement already satisfied: typing-extensions in /usr/local/lib/python3.10/dist-packages (from torch>=2->-r requirements.txt (line 11)) (4.5.0)\n",
            "Requirement already satisfied: sympy in /usr/local/lib/python3.10/dist-packages (from torch>=2->-r requirements.txt (line 11)) (1.12)\n",
            "Requirement already satisfied: networkx in /usr/local/lib/python3.10/dist-packages (from torch>=2->-r requirements.txt (line 11)) (3.2.1)\n",
            "Requirement already satisfied: jinja2 in /usr/local/lib/python3.10/dist-packages (from torch>=2->-r requirements.txt (line 11)) (3.1.2)\n",
            "Requirement already satisfied: fsspec in /usr/local/lib/python3.10/dist-packages (from torch>=2->-r requirements.txt (line 11)) (2023.6.0)\n",
            "Requirement already satisfied: triton==2.1.0 in /usr/local/lib/python3.10/dist-packages (from torch>=2->-r requirements.txt (line 11)) (2.1.0)\n",
            "Requirement already satisfied: certifi in /usr/local/lib/python3.10/dist-packages (from kaggle->-r requirements.txt (line 13)) (2023.11.17)\n",
            "Requirement already satisfied: python-slugify in /usr/local/lib/python3.10/dist-packages (from kaggle->-r requirements.txt (line 13)) (8.0.1)\n",
            "Requirement already satisfied: urllib3 in /usr/local/lib/python3.10/dist-packages (from kaggle->-r requirements.txt (line 13)) (2.0.7)\n",
            "Requirement already satisfied: bleach in /usr/local/lib/python3.10/dist-packages (from kaggle->-r requirements.txt (line 13)) (6.1.0)\n",
            "Requirement already satisfied: pydantic>=1.9.1 in /usr/local/lib/python3.10/dist-packages (from inflect~=7.0.0->-r requirements.txt (line 16)) (1.10.13)\n",
            "Requirement already satisfied: audioread>=2.1.9 in /usr/local/lib/python3.10/dist-packages (from librosa~=0.10.1->-r requirements.txt (line 18)) (3.0.1)\n",
            "Requirement already satisfied: joblib>=0.14 in /usr/local/lib/python3.10/dist-packages (from librosa~=0.10.1->-r requirements.txt (line 18)) (1.3.2)\n",
            "Requirement already satisfied: decorator>=4.3.0 in /usr/local/lib/python3.10/dist-packages (from librosa~=0.10.1->-r requirements.txt (line 18)) (4.4.2)\n",
            "Requirement already satisfied: soundfile>=0.12.1 in /usr/local/lib/python3.10/dist-packages (from librosa~=0.10.1->-r requirements.txt (line 18)) (0.12.1)\n",
            "Requirement already satisfied: pooch>=1.0 in /usr/local/lib/python3.10/dist-packages (from librosa~=0.10.1->-r requirements.txt (line 18)) (1.8.0)\n",
            "Requirement already satisfied: soxr>=0.3.2 in /usr/local/lib/python3.10/dist-packages (from librosa~=0.10.1->-r requirements.txt (line 18)) (0.3.7)\n",
            "Requirement already satisfied: lazy-loader>=0.1 in /usr/local/lib/python3.10/dist-packages (from librosa~=0.10.1->-r requirements.txt (line 18)) (0.3)\n",
            "Requirement already satisfied: msgpack>=1.0 in /usr/local/lib/python3.10/dist-packages (from librosa~=0.10.1->-r requirements.txt (line 18)) (1.0.7)\n",
            "Requirement already satisfied: threadpoolctl>=2.0.0 in /usr/local/lib/python3.10/dist-packages (from scikit-learn>=1.2.2->-r requirements.txt (line 19)) (3.2.0)\n",
            "Collecting antlr4-python3-runtime==4.9.* (from hydra-core->-r requirements.txt (line 20))\n",
            "  Downloading antlr4-python3-runtime-4.9.3.tar.gz (117 kB)\n",
            "\u001b[2K     \u001b[90m━━━━━━━━━━━━━━━━━━━━━━━━━━━━━━━━━━━━━━━━\u001b[0m \u001b[32m117.0/117.0 kB\u001b[0m \u001b[31m14.2 MB/s\u001b[0m eta \u001b[36m0:00:00\u001b[0m\n",
            "\u001b[?25h  Preparing metadata (setup.py) ... \u001b[?25l\u001b[?25hdone\n",
            "Collecting gitdb<5,>=4.0.1 (from GitPython!=3.1.29,>=1.0.0->wandb~=0.16.0->-r requirements.txt (line 1))\n",
            "  Downloading gitdb-4.0.11-py3-none-any.whl (62 kB)\n",
            "\u001b[2K     \u001b[90m━━━━━━━━━━━━━━━━━━━━━━━━━━━━━━━━━━━━━━━━\u001b[0m \u001b[32m62.7/62.7 kB\u001b[0m \u001b[31m8.7 MB/s\u001b[0m eta \u001b[36m0:00:00\u001b[0m\n",
            "\u001b[?25hRequirement already satisfied: platformdirs>=2.5.0 in /usr/local/lib/python3.10/dist-packages (from pooch>=1.0->librosa~=0.10.1->-r requirements.txt (line 18)) (4.1.0)\n",
            "Requirement already satisfied: charset-normalizer<4,>=2 in /usr/local/lib/python3.10/dist-packages (from requests<3,>=2.0.0->wandb~=0.16.0->-r requirements.txt (line 1)) (3.3.2)\n",
            "Requirement already satisfied: idna<4,>=2.5 in /usr/local/lib/python3.10/dist-packages (from requests<3,>=2.0.0->wandb~=0.16.0->-r requirements.txt (line 1)) (3.6)\n",
            "Requirement already satisfied: cffi>=1.0 in /usr/local/lib/python3.10/dist-packages (from soundfile>=0.12.1->librosa~=0.10.1->-r requirements.txt (line 18)) (1.16.0)\n",
            "Requirement already satisfied: soupsieve>1.2 in /usr/local/lib/python3.10/dist-packages (from beautifulsoup4->gdown->-r requirements.txt (line 2)) (2.5)\n",
            "Requirement already satisfied: webencodings in /usr/local/lib/python3.10/dist-packages (from bleach->kaggle->-r requirements.txt (line 13)) (0.5.1)\n",
            "Requirement already satisfied: MarkupSafe>=2.0 in /usr/local/lib/python3.10/dist-packages (from jinja2->torch>=2->-r requirements.txt (line 11)) (2.1.3)\n",
            "Requirement already satisfied: text-unidecode>=1.3 in /usr/local/lib/python3.10/dist-packages (from python-slugify->kaggle->-r requirements.txt (line 13)) (1.3)\n",
            "Requirement already satisfied: PySocks!=1.5.7,>=1.5.6 in /usr/local/lib/python3.10/dist-packages (from requests<3,>=2.0.0->wandb~=0.16.0->-r requirements.txt (line 1)) (1.7.1)\n",
            "Requirement already satisfied: mpmath>=0.19 in /usr/local/lib/python3.10/dist-packages (from sympy->torch>=2->-r requirements.txt (line 11)) (1.3.0)\n",
            "Requirement already satisfied: pycparser in /usr/local/lib/python3.10/dist-packages (from cffi>=1.0->soundfile>=0.12.1->librosa~=0.10.1->-r requirements.txt (line 18)) (2.21)\n",
            "Collecting smmap<6,>=3.0.1 (from gitdb<5,>=4.0.1->GitPython!=3.1.29,>=1.0.0->wandb~=0.16.0->-r requirements.txt (line 1))\n",
            "  Downloading smmap-5.0.1-py3-none-any.whl (24 kB)\n",
            "Building wheels for collected packages: wget, antlr4-python3-runtime\n",
            "  Building wheel for wget (setup.py) ... \u001b[?25l\u001b[?25hdone\n",
            "  Created wheel for wget: filename=wget-3.2-py3-none-any.whl size=9655 sha256=58911a4c050ea1476962b95229d16db6f8981828c8896a4f1838c822ecdbf0df\n",
            "  Stored in directory: /root/.cache/pip/wheels/8b/f1/7f/5c94f0a7a505ca1c81cd1d9208ae2064675d97582078e6c769\n",
            "  Building wheel for antlr4-python3-runtime (setup.py) ... \u001b[?25l\u001b[?25hdone\n",
            "  Created wheel for antlr4-python3-runtime: filename=antlr4_python3_runtime-4.9.3-py3-none-any.whl size=144554 sha256=e6f5427509bcd8d2eafcee89023475603963aca1e7bdcd2f51c62f1c050ea83a\n",
            "  Stored in directory: /root/.cache/pip/wheels/12/93/dd/1f6a127edc45659556564c5730f6d4e300888f4bca2d4c5a88\n",
            "Successfully built wget antlr4-python3-runtime\n",
            "Installing collected packages: wget, antlr4-python3-runtime, tzdata, smmap, setproctitle, sentry-sdk, Pillow, omegaconf, numpy, flashlight-text, docker-pycreds, pandas, hydra-core, gitdb, matplotlib, GitPython, wandb\n",
            "  Attempting uninstall: Pillow\n",
            "    Found existing installation: Pillow 9.4.0\n",
            "    Uninstalling Pillow-9.4.0:\n",
            "      Successfully uninstalled Pillow-9.4.0\n",
            "  Attempting uninstall: numpy\n",
            "    Found existing installation: numpy 1.23.5\n",
            "    Uninstalling numpy-1.23.5:\n",
            "      Successfully uninstalled numpy-1.23.5\n",
            "  Attempting uninstall: pandas\n",
            "    Found existing installation: pandas 1.5.3\n",
            "    Uninstalling pandas-1.5.3:\n",
            "      Successfully uninstalled pandas-1.5.3\n",
            "  Attempting uninstall: matplotlib\n",
            "    Found existing installation: matplotlib 3.7.1\n",
            "    Uninstalling matplotlib-3.7.1:\n",
            "      Successfully uninstalled matplotlib-3.7.1\n",
            "\u001b[31mERROR: pip's dependency resolver does not currently take into account all the packages that are installed. This behaviour is the source of the following dependency conflicts.\n",
            "lida 0.0.10 requires fastapi, which is not installed.\n",
            "lida 0.0.10 requires kaleido, which is not installed.\n",
            "lida 0.0.10 requires python-multipart, which is not installed.\n",
            "lida 0.0.10 requires uvicorn, which is not installed.\n",
            "bigframes 0.16.0 requires pandas<2.1.4,>=1.5.0, but you have pandas 2.1.4 which is incompatible.\n",
            "google-colab 1.0.0 requires pandas==1.5.3, but you have pandas 2.1.4 which is incompatible.\n",
            "imageio 2.31.6 requires pillow<10.1.0,>=8.3.2, but you have pillow 10.1.0 which is incompatible.\u001b[0m\u001b[31m\n",
            "\u001b[0mSuccessfully installed GitPython-3.1.40 Pillow-10.1.0 antlr4-python3-runtime-4.9.3 docker-pycreds-0.4.0 flashlight-text-0.0.4 gitdb-4.0.11 hydra-core-1.3.2 matplotlib-3.8.2 numpy-1.26.2 omegaconf-2.3.0 pandas-2.1.4 sentry-sdk-1.39.1 setproctitle-1.3.3 smmap-5.0.1 tzdata-2023.3 wandb-0.16.1 wget-3.2\n",
            "Downloading...\n",
            "From: https://drive.google.com/uc?id=1UBJKIAn_ibl9UH7WmKzYpEphFkdz6V0z\n",
            "To: /content/dla_as/default_test_model/lcnn-lfcc-10.pth\n",
            "100% 26.9M/26.9M [00:01<00:00, 23.4MB/s]\n",
            "Downloading...\n",
            "From: https://drive.google.com/uc?id=191cPrwnaGGu6Vz8-fEjr3U8NO3wkbSCt\n",
            "To: /content/dla_as/default_test_model/rawnet2-s3-50.pth\n",
            "100% 212M/212M [00:09<00:00, 23.3MB/s]\n",
            "Downloading...\n",
            "From: https://drive.google.com/uc?id=1acqZie5JlQuJr7axjwzbC2Q8o-yRgYED\n",
            "To: /content/dla_as/default_test_model/rawnet2-s1-50.pth\n",
            "100% 212M/212M [00:04<00:00, 42.8MB/s]\n"
          ]
        }
      ],
      "source": [
        "!bash /content/dla_as/evaluate_script.sh"
      ]
    },
    {
      "cell_type": "code",
      "execution_count": null,
      "metadata": {
        "id": "lZuq2010bm-q",
        "outputId": "5d6bd181-ecc4-444a-a212-bac27782d617",
        "colab": {
          "base_uri": "https://localhost:8080/"
        }
      },
      "outputs": [
        {
          "output_type": "stream",
          "name": "stdout",
          "text": [
            "--2023-12-16 09:41:04--  https://datashare.ed.ac.uk/bitstream/handle/10283/3336/LA.zip\n",
            "Resolving datashare.ed.ac.uk (datashare.ed.ac.uk)... 129.215.67.172\n",
            "Connecting to datashare.ed.ac.uk (datashare.ed.ac.uk)|129.215.67.172|:443... connected.\n",
            "HTTP request sent, awaiting response... 200 200\n",
            "Length: 7640952520 (7.1G) [application/zip]\n",
            "Saving to: ‘LA.zip’\n",
            "\n",
            "LA.zip              100%[===================>]   7.12G  1.87MB/s    in 83m 42s \n",
            "\n",
            "2023-12-16 11:04:47 (1.45 MB/s) - ‘LA.zip’ saved [7640952520/7640952520]\n",
            "\n"
          ]
        }
      ],
      "source": [
        "!bash prep_script.sh"
      ]
    },
    {
      "cell_type": "code",
      "source": [
        "!python test.py +resume=\"default_test_model/rawnet2-s1-50.pth\" test_settings.skip_test=False"
      ],
      "metadata": {
        "colab": {
          "base_uri": "https://localhost:8080/"
        },
        "id": "ptgEBqDb8AlT",
        "outputId": "9bf016e6-3079-415e-cb12-0c5e9da03fa4"
      },
      "execution_count": null,
      "outputs": [
        {
          "output_type": "stream",
          "name": "stdout",
          "text": [
            "RawNet2(\n",
            "  (fixed_sinc_filters): Sequential(\n",
            "    (0): SincConv_fast()\n",
            "    (1): MaxPool1d(kernel_size=3, stride=3, padding=0, dilation=1, ceil_mode=False)\n",
            "    (2): BatchNorm1d(20, eps=1e-05, momentum=0.1, affine=True, track_running_stats=True)\n",
            "    (3): LeakyReLU(negative_slope=0.01)\n",
            "  )\n",
            "  (blocks): ModuleList(\n",
            "    (0-1): 2 x ResBlock(\n",
            "      (layers): Sequential(\n",
            "        (0): BatchNorm1d(20, eps=1e-05, momentum=0.1, affine=True, track_running_stats=True)\n",
            "        (1): LeakyReLU(negative_slope=0.01)\n",
            "        (2): Conv1d(20, 20, kernel_size=(3,), stride=(1,), padding=(1,), bias=False)\n",
            "        (3): BatchNorm1d(20, eps=1e-05, momentum=0.1, affine=True, track_running_stats=True)\n",
            "        (4): LeakyReLU(negative_slope=0.01)\n",
            "        (5): Conv1d(20, 20, kernel_size=(3,), stride=(1,), padding=(1,))\n",
            "      )\n",
            "      (downsample): Identity()\n",
            "      (max_pooling): MaxPool1d(kernel_size=3, stride=3, padding=0, dilation=1, ceil_mode=False)\n",
            "      (fc): Sequential(\n",
            "        (0): AdaptiveAvgPool1d(output_size=1)\n",
            "        (1): Flatten(start_dim=1, end_dim=-1)\n",
            "        (2): Linear(in_features=20, out_features=20, bias=True)\n",
            "        (3): Sigmoid()\n",
            "        (4): Unflatten(dim=1, unflattened_size=(20, -1))\n",
            "      )\n",
            "    )\n",
            "    (2): ResBlock(\n",
            "      (layers): Sequential(\n",
            "        (0): BatchNorm1d(20, eps=1e-05, momentum=0.1, affine=True, track_running_stats=True)\n",
            "        (1): LeakyReLU(negative_slope=0.01)\n",
            "        (2): Conv1d(20, 128, kernel_size=(3,), stride=(1,), padding=(1,), bias=False)\n",
            "        (3): BatchNorm1d(128, eps=1e-05, momentum=0.1, affine=True, track_running_stats=True)\n",
            "        (4): LeakyReLU(negative_slope=0.01)\n",
            "        (5): Conv1d(128, 128, kernel_size=(3,), stride=(1,), padding=(1,))\n",
            "      )\n",
            "      (downsample): Conv1d(20, 128, kernel_size=(1,), stride=(1,), bias=False)\n",
            "      (max_pooling): MaxPool1d(kernel_size=3, stride=3, padding=0, dilation=1, ceil_mode=False)\n",
            "      (fc): Sequential(\n",
            "        (0): AdaptiveAvgPool1d(output_size=1)\n",
            "        (1): Flatten(start_dim=1, end_dim=-1)\n",
            "        (2): Linear(in_features=128, out_features=128, bias=True)\n",
            "        (3): Sigmoid()\n",
            "        (4): Unflatten(dim=1, unflattened_size=(128, -1))\n",
            "      )\n",
            "    )\n",
            "    (3-5): 3 x ResBlock(\n",
            "      (layers): Sequential(\n",
            "        (0): BatchNorm1d(128, eps=1e-05, momentum=0.1, affine=True, track_running_stats=True)\n",
            "        (1): LeakyReLU(negative_slope=0.01)\n",
            "        (2): Conv1d(128, 128, kernel_size=(3,), stride=(1,), padding=(1,), bias=False)\n",
            "        (3): BatchNorm1d(128, eps=1e-05, momentum=0.1, affine=True, track_running_stats=True)\n",
            "        (4): LeakyReLU(negative_slope=0.01)\n",
            "        (5): Conv1d(128, 128, kernel_size=(3,), stride=(1,), padding=(1,))\n",
            "      )\n",
            "      (downsample): Identity()\n",
            "      (max_pooling): MaxPool1d(kernel_size=3, stride=3, padding=0, dilation=1, ceil_mode=False)\n",
            "      (fc): Sequential(\n",
            "        (0): AdaptiveAvgPool1d(output_size=1)\n",
            "        (1): Flatten(start_dim=1, end_dim=-1)\n",
            "        (2): Linear(in_features=128, out_features=128, bias=True)\n",
            "        (3): Sigmoid()\n",
            "        (4): Unflatten(dim=1, unflattened_size=(128, -1))\n",
            "      )\n",
            "    )\n",
            "  )\n",
            "  (bn): Sequential(\n",
            "    (0): BatchNorm1d(128, eps=1e-05, momentum=0.1, affine=True, track_running_stats=True)\n",
            "    (1): LeakyReLU(negative_slope=0.01)\n",
            "  )\n",
            "  (gru): GRU(128, 1024, num_layers=3, batch_first=True, dropout=0.2)\n",
            "  (fc): Sequential(\n",
            "    (0): Linear(in_features=1024, out_features=1024, bias=True)\n",
            "    (1): BatchNorm1d(1024, eps=1e-05, momentum=0.1, affine=True, track_running_stats=True)\n",
            "    (2): Linear(in_features=1024, out_features=2, bias=True)\n",
            "  )\n",
            ")\n",
            "Loading checkpoint: default_test_model/rawnet2-s1-50.pth ...\n",
            "default_test_model/rawnet2-s1-50.pth\n",
            "Checkpoint!\n",
            "100% 557/557 [03:39<00:00,  2.54it/s]\n",
            "EER:   0.04421272046644635\n",
            "Thres: -0.7957693338394165\n",
            "         audio_name  prob_real  prob_fake\n",
            "0      audio_3.flac   0.000001   0.999999\n",
            "1   not_fake_1.flac   0.000002   0.999998\n",
            "2   not_fake_2.flac   0.000010   0.999990\n",
            "3  generated_3.flac   0.000542   0.999458\n",
            "4      audio_1.flac   0.000013   0.999987\n",
            "5  generated_1.flac   0.000004   0.999996\n",
            "6  generated_2.flac   0.002002   0.997998\n",
            "7        shrek.flac   0.999940   0.000060\n",
            "8      audio_2.flac   0.000289   0.999711\n"
          ]
        }
      ]
    },
    {
      "cell_type": "code",
      "execution_count": null,
      "metadata": {
        "id": "mtFk-UIovcQ9",
        "outputId": "4740008b-8a1c-4075-a54f-ba48abe9b51c",
        "colab": {
          "base_uri": "https://localhost:8080/"
        }
      },
      "outputs": [
        {
          "output_type": "stream",
          "name": "stdout",
          "text": [
            "LightCNN(\n",
            "  (layers): Sequential(\n",
            "    (0): Conv2d(1, 64, kernel_size=(5, 5), stride=(1, 1), padding=same)\n",
            "    (1): MFM(32)\n",
            "    (2): MaxPool2d(kernel_size=2, stride=2, padding=0, dilation=1, ceil_mode=False)\n",
            "    (3): Conv2d(32, 64, kernel_size=(1, 1), stride=(1, 1), padding=same)\n",
            "    (4): MFM(32)\n",
            "    (5): BatchNorm2d(32, eps=1e-05, momentum=0.1, affine=True, track_running_stats=True)\n",
            "    (6): Conv2d(32, 96, kernel_size=(3, 3), stride=(1, 1), padding=same)\n",
            "    (7): MFM(48)\n",
            "    (8): MaxPool2d(kernel_size=2, stride=2, padding=0, dilation=1, ceil_mode=False)\n",
            "    (9): BatchNorm2d(48, eps=1e-05, momentum=0.1, affine=True, track_running_stats=True)\n",
            "    (10): Conv2d(48, 96, kernel_size=(1, 1), stride=(1, 1), padding=same)\n",
            "    (11): MFM(48)\n",
            "    (12): BatchNorm2d(48, eps=1e-05, momentum=0.1, affine=True, track_running_stats=True)\n",
            "    (13): Conv2d(48, 128, kernel_size=(3, 3), stride=(1, 1), padding=same)\n",
            "    (14): MFM(64)\n",
            "    (15): MaxPool2d(kernel_size=2, stride=2, padding=0, dilation=1, ceil_mode=False)\n",
            "    (16): Conv2d(64, 128, kernel_size=(1, 1), stride=(1, 1), padding=same)\n",
            "    (17): MFM(64)\n",
            "    (18): BatchNorm2d(64, eps=1e-05, momentum=0.1, affine=True, track_running_stats=True)\n",
            "    (19): Conv2d(64, 64, kernel_size=(3, 3), stride=(1, 1), padding=same)\n",
            "    (20): MFM(32)\n",
            "    (21): BatchNorm2d(32, eps=1e-05, momentum=0.1, affine=True, track_running_stats=True)\n",
            "    (22): Conv2d(32, 64, kernel_size=(1, 1), stride=(1, 1), padding=same)\n",
            "    (23): MFM(32)\n",
            "    (24): BatchNorm2d(32, eps=1e-05, momentum=0.1, affine=True, track_running_stats=True)\n",
            "    (25): Conv2d(32, 64, kernel_size=(3, 3), stride=(1, 1), padding=same)\n",
            "    (26): MFM(32)\n",
            "    (27): MaxPool2d(kernel_size=2, stride=2, padding=0, dilation=1, ceil_mode=False)\n",
            "    (28): Flatten(start_dim=1, end_dim=-1)\n",
            "    (29): Dropout(p=0.75, inplace=False)\n",
            "    (30): Linear(in_features=13024, out_features=160, bias=True)\n",
            "    (31): MFM(80)\n",
            "    (32): BatchNorm1d(80, eps=1e-05, momentum=0.1, affine=True, track_running_stats=True)\n",
            "    (33): Linear(in_features=80, out_features=2, bias=True)\n",
            "  )\n",
            ")\n",
            "Loading checkpoint: default_test_model/lcnn-lfcc-10.pth ...\n",
            "default_test_model/lcnn-lfcc-10.pth\n",
            "Checkpoint!\n",
            "100% 1114/1114 [09:14<00:00,  2.01it/s]\n",
            "EER:   0.0474487844696494\n",
            "Thres: 2.3971192836761475\n",
            "         audio_name  prob_real  prob_fake\n",
            "0      audio_3.flac   0.002311   0.997689\n",
            "1   not_fake_1.flac   0.003073   0.996927\n",
            "2   not_fake_2.flac   0.017352   0.982648\n",
            "3  generated_3.flac   0.001790   0.998210\n",
            "4      audio_1.flac   0.000729   0.999271\n",
            "5  generated_1.flac   0.004568   0.995432\n",
            "6  generated_2.flac   0.001639   0.998361\n",
            "7        shrek.flac   0.000038   0.999962\n",
            "8      audio_2.flac   0.618350   0.381649\n"
          ]
        }
      ],
      "source": [
        "!python test.py --config-name=\"config_lcnn_lfcc.yaml\" +resume=\"default_test_model/lcnn-lfcc-10.pth\" test_settings.skip_test=False test_settings.audio_dir=\"test_data\""
      ]
    },
    {
      "cell_type": "code",
      "execution_count": null,
      "metadata": {
        "id": "z7ZIjeH6tck7",
        "outputId": "0abc5b11-9463-4017-900c-115bd8d65afd",
        "colab": {
          "base_uri": "https://localhost:8080/"
        }
      },
      "outputs": [
        {
          "output_type": "stream",
          "name": "stdout",
          "text": [
            "RawNet2(\n",
            "  (fixed_sinc_filters): Sequential(\n",
            "    (0): SincConv_fast()\n",
            "    (1): MaxPool1d(kernel_size=3, stride=3, padding=0, dilation=1, ceil_mode=False)\n",
            "    (2): BatchNorm1d(20, eps=1e-05, momentum=0.1, affine=True, track_running_stats=True)\n",
            "    (3): LeakyReLU(negative_slope=0.01)\n",
            "  )\n",
            "  (blocks): ModuleList(\n",
            "    (0-1): 2 x ResBlock(\n",
            "      (layers): Sequential(\n",
            "        (0): BatchNorm1d(20, eps=1e-05, momentum=0.1, affine=True, track_running_stats=True)\n",
            "        (1): LeakyReLU(negative_slope=0.01)\n",
            "        (2): Conv1d(20, 20, kernel_size=(3,), stride=(1,), padding=(1,), bias=False)\n",
            "        (3): BatchNorm1d(20, eps=1e-05, momentum=0.1, affine=True, track_running_stats=True)\n",
            "        (4): LeakyReLU(negative_slope=0.01)\n",
            "        (5): Conv1d(20, 20, kernel_size=(3,), stride=(1,), padding=(1,))\n",
            "      )\n",
            "      (downsample): Identity()\n",
            "      (max_pooling): MaxPool1d(kernel_size=3, stride=3, padding=0, dilation=1, ceil_mode=False)\n",
            "      (fc): Sequential(\n",
            "        (0): AdaptiveAvgPool1d(output_size=1)\n",
            "        (1): Flatten(start_dim=1, end_dim=-1)\n",
            "        (2): Linear(in_features=20, out_features=20, bias=True)\n",
            "        (3): Sigmoid()\n",
            "        (4): Unflatten(dim=1, unflattened_size=(20, -1))\n",
            "      )\n",
            "    )\n",
            "    (2): ResBlock(\n",
            "      (layers): Sequential(\n",
            "        (0): BatchNorm1d(20, eps=1e-05, momentum=0.1, affine=True, track_running_stats=True)\n",
            "        (1): LeakyReLU(negative_slope=0.01)\n",
            "        (2): Conv1d(20, 128, kernel_size=(3,), stride=(1,), padding=(1,), bias=False)\n",
            "        (3): BatchNorm1d(128, eps=1e-05, momentum=0.1, affine=True, track_running_stats=True)\n",
            "        (4): LeakyReLU(negative_slope=0.01)\n",
            "        (5): Conv1d(128, 128, kernel_size=(3,), stride=(1,), padding=(1,))\n",
            "      )\n",
            "      (downsample): Conv1d(20, 128, kernel_size=(1,), stride=(1,), bias=False)\n",
            "      (max_pooling): MaxPool1d(kernel_size=3, stride=3, padding=0, dilation=1, ceil_mode=False)\n",
            "      (fc): Sequential(\n",
            "        (0): AdaptiveAvgPool1d(output_size=1)\n",
            "        (1): Flatten(start_dim=1, end_dim=-1)\n",
            "        (2): Linear(in_features=128, out_features=128, bias=True)\n",
            "        (3): Sigmoid()\n",
            "        (4): Unflatten(dim=1, unflattened_size=(128, -1))\n",
            "      )\n",
            "    )\n",
            "    (3-5): 3 x ResBlock(\n",
            "      (layers): Sequential(\n",
            "        (0): BatchNorm1d(128, eps=1e-05, momentum=0.1, affine=True, track_running_stats=True)\n",
            "        (1): LeakyReLU(negative_slope=0.01)\n",
            "        (2): Conv1d(128, 128, kernel_size=(3,), stride=(1,), padding=(1,), bias=False)\n",
            "        (3): BatchNorm1d(128, eps=1e-05, momentum=0.1, affine=True, track_running_stats=True)\n",
            "        (4): LeakyReLU(negative_slope=0.01)\n",
            "        (5): Conv1d(128, 128, kernel_size=(3,), stride=(1,), padding=(1,))\n",
            "      )\n",
            "      (downsample): Identity()\n",
            "      (max_pooling): MaxPool1d(kernel_size=3, stride=3, padding=0, dilation=1, ceil_mode=False)\n",
            "      (fc): Sequential(\n",
            "        (0): AdaptiveAvgPool1d(output_size=1)\n",
            "        (1): Flatten(start_dim=1, end_dim=-1)\n",
            "        (2): Linear(in_features=128, out_features=128, bias=True)\n",
            "        (3): Sigmoid()\n",
            "        (4): Unflatten(dim=1, unflattened_size=(128, -1))\n",
            "      )\n",
            "    )\n",
            "  )\n",
            "  (bn): Sequential(\n",
            "    (0): BatchNorm1d(128, eps=1e-05, momentum=0.1, affine=True, track_running_stats=True)\n",
            "    (1): LeakyReLU(negative_slope=0.01)\n",
            "  )\n",
            "  (gru): GRU(128, 1024, num_layers=3, batch_first=True, dropout=0.2)\n",
            "  (fc): Sequential(\n",
            "    (0): Linear(in_features=1024, out_features=1024, bias=True)\n",
            "    (1): BatchNorm1d(1024, eps=1e-05, momentum=0.1, affine=True, track_running_stats=True)\n",
            "    (2): Linear(in_features=1024, out_features=2, bias=True)\n",
            "  )\n",
            ")\n",
            "Loading checkpoint: default_test_model/rawnet2-s3-50.pth ...\n",
            "default_test_model/rawnet2-s3-50.pth\n",
            "Checkpoint!\n",
            "100% 557/557 [03:15<00:00,  2.85it/s]\n",
            "EER:   0.03847720934998036\n",
            "Thres: 1.6802773475646973\n",
            "         audio_name  prob_real  prob_fake\n",
            "0      audio_3.flac   0.000001   0.999999\n",
            "1   not_fake_1.flac   0.000008   0.999992\n",
            "2   not_fake_2.flac   0.000276   0.999724\n",
            "3  generated_3.flac   0.101685   0.898315\n",
            "4      audio_1.flac   0.000003   0.999997\n",
            "5  generated_1.flac   0.000030   0.999970\n",
            "6  generated_2.flac   0.699631   0.300369\n",
            "7        shrek.flac   0.997528   0.002472\n",
            "8      audio_2.flac   0.000010   0.999990\n"
          ]
        }
      ],
      "source": [
        "!python test.py +resume=\"default_test_model/rawnet2-s3-50.pth\" test_settings.skip_test=False"
      ]
    },
    {
      "cell_type": "markdown",
      "metadata": {
        "id": "owA-aGmbsAT1"
      },
      "source": [
        "# Train"
      ]
    },
    {
      "cell_type": "code",
      "execution_count": null,
      "metadata": {
        "id": "oLuX9fsIsBDS"
      },
      "outputs": [],
      "source": [
        "!bash prep_script.sh\n",
        "!pip install -r requirements.txt\n",
        "!python train.py"
      ]
    },
    {
      "cell_type": "code",
      "execution_count": null,
      "metadata": {
        "id": "W8BlIfttniNL"
      },
      "outputs": [],
      "source": []
    }
  ],
  "metadata": {
    "colab": {
      "provenance": [],
      "gpuType": "T4"
    },
    "kernelspec": {
      "display_name": "Python 3",
      "name": "python3"
    },
    "language_info": {
      "name": "python"
    },
    "accelerator": "GPU"
  },
  "nbformat": 4,
  "nbformat_minor": 0
}